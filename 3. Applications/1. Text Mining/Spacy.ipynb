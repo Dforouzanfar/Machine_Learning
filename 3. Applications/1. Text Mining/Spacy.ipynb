{
  "nbformat": 4,
  "nbformat_minor": 0,
  "metadata": {
    "colab": {
      "provenance": [],
      "authorship_tag": "ABX9TyO37vfNY9yCvOFIa7u0K2NV",
      "include_colab_link": true
    },
    "kernelspec": {
      "name": "python3",
      "display_name": "Python 3"
    },
    "language_info": {
      "name": "python"
    }
  },
  "cells": [
    {
      "cell_type": "markdown",
      "metadata": {
        "id": "view-in-github",
        "colab_type": "text"
      },
      "source": [
        "<a href=\"https://colab.research.google.com/github/Dforouzanfar/Machine_Learning/blob/master/3.%20Applications/1.%20Text%20Mining/Spacy.ipynb\" target=\"_parent\"><img src=\"https://colab.research.google.com/assets/colab-badge.svg\" alt=\"Open In Colab\"/></a>"
      ]
    },
    {
      "cell_type": "markdown",
      "source": [
        "# spaCy"
      ],
      "metadata": {
        "id": "WPyC7Lbp-Etw"
      }
    },
    {
      "cell_type": "markdown",
      "source": [
        "spaCy is an open-source Python library for advanced NLP. It is designed to handle large-scale NLP tasks efficiently and comes with pre-trained statistical models and deep learning integration.\n",
        "\n",
        "**Key Features**\n",
        "1. Tokenization\n",
        "2. Named Entity Recognition - NER\n",
        "3. Part-of-Speech (POS) Tagging\n",
        "4. Dependency Parsing - relationships between words.\n",
        "5. Word Vectors - word embeddings\n",
        "6. Custom Pipelines\n",
        "7. Multi-language Support\n",
        "\n",
        "**Applications**\n",
        "1. Text classification\n",
        "2. Information extraction\n",
        "3. Summarization\n",
        "4. Sentiment analysis\n",
        "5. Translation"
      ],
      "metadata": {
        "id": "INIv6Gvd-YtC"
      }
    },
    {
      "cell_type": "markdown",
      "source": [
        "# 0. Installation\n",
        "\n",
        "\n"
      ],
      "metadata": {
        "id": "9W-oJKKdAqdp"
      }
    },
    {
      "cell_type": "code",
      "source": [
        "# !pip install spacy\n",
        "# !python -m spacy download en"
      ],
      "metadata": {
        "id": "4cOqfSP3-Rfv"
      },
      "execution_count": 2,
      "outputs": []
    },
    {
      "cell_type": "markdown",
      "source": [
        "# 1. Tokenization"
      ],
      "metadata": {
        "id": "jkvtAb9oJQow"
      }
    },
    {
      "cell_type": "code",
      "source": [
        "import spacy"
      ],
      "metadata": {
        "id": "XBcFiW5gJFwT"
      },
      "execution_count": 3,
      "outputs": []
    },
    {
      "cell_type": "markdown",
      "source": [
        "### spacy.blank(name)"
      ],
      "metadata": {
        "id": "OBmoKSHLNXXh"
      }
    },
    {
      "cell_type": "code",
      "source": [
        "# Creating a blank English spaCy pipeline\n",
        "nlp = spacy.blank(\"en\")\n",
        "\n",
        "nlp.pipeline # we call spacy.blank, so we don't have anything except tokenizer in the pipeline"
      ],
      "metadata": {
        "colab": {
          "base_uri": "https://localhost:8080/"
        },
        "id": "ncqDJL5nJZes",
        "outputId": "15123ea6-ed1c-4e7f-f9c3-ef23f2809f3e"
      },
      "execution_count": 63,
      "outputs": [
        {
          "output_type": "execute_result",
          "data": {
            "text/plain": [
              "[]"
            ]
          },
          "metadata": {},
          "execution_count": 63
        }
      ]
    },
    {
      "cell_type": "code",
      "source": [
        "# Processing a text string to extract patterns and insights\n",
        "doc = nlp(\"Text mining is the process of extracting   meaningful patterns and insights from text data.\")\n",
        "doc"
      ],
      "metadata": {
        "colab": {
          "base_uri": "https://localhost:8080/"
        },
        "id": "8w9ikhYRVFTw",
        "outputId": "c07694b8-ac10-4a88-8abf-35a8b9be4a71"
      },
      "execution_count": 71,
      "outputs": [
        {
          "output_type": "execute_result",
          "data": {
            "text/plain": [
              "Text mining is the process of extracting   meaningful patterns and insights from text data."
            ]
          },
          "metadata": {},
          "execution_count": 71
        }
      ]
    },
    {
      "cell_type": "code",
      "source": [
        "for token in doc:\n",
        "  print(token)"
      ],
      "metadata": {
        "colab": {
          "base_uri": "https://localhost:8080/"
        },
        "id": "_mWkrypxJ6C5",
        "outputId": "8f6d245a-9dfa-4282-f0da-a5d6bfde9a06"
      },
      "execution_count": 72,
      "outputs": [
        {
          "output_type": "stream",
          "name": "stdout",
          "text": [
            "Text\n",
            "mining\n",
            "is\n",
            "the\n",
            "process\n",
            "of\n",
            "extracting\n",
            "  \n",
            "meaningful\n",
            "patterns\n",
            "and\n",
            "insights\n",
            "from\n",
            "text\n",
            "data\n",
            ".\n"
          ]
        }
      ]
    },
    {
      "cell_type": "code",
      "source": [
        "token = doc[1]\n",
        "token.text"
      ],
      "metadata": {
        "colab": {
          "base_uri": "https://localhost:8080/",
          "height": 36
        },
        "id": "31pzn5gXOMeq",
        "outputId": "360f0435-7fc5-477b-8a35-602d9683a9f8"
      },
      "execution_count": 73,
      "outputs": [
        {
          "output_type": "execute_result",
          "data": {
            "text/plain": [
              "'mining'"
            ],
            "application/vnd.google.colaboratory.intrinsic+json": {
              "type": "string"
            }
          },
          "metadata": {},
          "execution_count": 73
        }
      ]
    },
    {
      "cell_type": "markdown",
      "source": [
        "#### Token Attributes"
      ],
      "metadata": {
        "id": "eaSta2dEWY2s"
      }
    },
    {
      "cell_type": "markdown",
      "source": [
        "There are numerous operations we can perform on each token, leveraging its attributes. Some of the most commonly used attributes include:\n",
        "* is_alpha\n",
        "* is_currency\n",
        "* is_digit\n",
        "* is_space\n",
        "* lemma\n",
        "* like_email\n",
        "* like_url\n",
        "\n",
        "you can access to all the methods with ```dir(token)```"
      ],
      "metadata": {
        "id": "PcouOmW_R0-l"
      }
    },
    {
      "cell_type": "code",
      "source": [
        "token = doc[7]\n",
        "token, token.is_space"
      ],
      "metadata": {
        "colab": {
          "base_uri": "https://localhost:8080/"
        },
        "id": "F1TFjINOP07q",
        "outputId": "56824c3c-7944-4a2e-8173-ed95da95b1a2"
      },
      "execution_count": 75,
      "outputs": [
        {
          "output_type": "execute_result",
          "data": {
            "text/plain": [
              "(  , True)"
            ]
          },
          "metadata": {},
          "execution_count": 75
        }
      ]
    },
    {
      "cell_type": "code",
      "source": [
        "for token in doc:\n",
        "  if not token.is_space and not token.is_punct:\n",
        "    print(token)"
      ],
      "metadata": {
        "colab": {
          "base_uri": "https://localhost:8080/"
        },
        "id": "wK-hVyy8RYzJ",
        "outputId": "21ce708b-ad3b-4f0f-bc34-c65c3652171e"
      },
      "execution_count": 76,
      "outputs": [
        {
          "output_type": "stream",
          "name": "stdout",
          "text": [
            "Text\n",
            "mining\n",
            "is\n",
            "the\n",
            "process\n",
            "of\n",
            "extracting\n",
            "meaningful\n",
            "patterns\n",
            "and\n",
            "insights\n",
            "from\n",
            "text\n",
            "data\n"
          ]
        }
      ]
    },
    {
      "cell_type": "code",
      "source": [
        "# We can also select a span of the sentence\n",
        "span = doc[:5]\n",
        "span"
      ],
      "metadata": {
        "colab": {
          "base_uri": "https://localhost:8080/"
        },
        "id": "3n2rcYvBRYw9",
        "outputId": "69b5facd-d27e-47d3-ab07-b31bf42aea4f"
      },
      "execution_count": 77,
      "outputs": [
        {
          "output_type": "execute_result",
          "data": {
            "text/plain": [
              "Text mining is the process"
            ]
          },
          "metadata": {},
          "execution_count": 77
        }
      ]
    },
    {
      "cell_type": "markdown",
      "source": [
        "#### Adding a pipe"
      ],
      "metadata": {
        "id": "EObvXhNEXvWi"
      }
    },
    {
      "cell_type": "code",
      "source": [
        "nlp.add_pipe('sentencizer')"
      ],
      "metadata": {
        "colab": {
          "base_uri": "https://localhost:8080/"
        },
        "id": "k2hNMBI0RYuI",
        "outputId": "834bc9ae-1aa5-41f3-951e-af6e86c06f3d"
      },
      "execution_count": 78,
      "outputs": [
        {
          "output_type": "execute_result",
          "data": {
            "text/plain": [
              "<spacy.pipeline.sentencizer.Sentencizer at 0x7ba21d4cacc0>"
            ]
          },
          "metadata": {},
          "execution_count": 78
        }
      ]
    },
    {
      "cell_type": "code",
      "source": [
        "doc = nlp(\"Text mining is the process of extracting meaningful patterns and insights from text data. NLP is a branch of artificial intelligence that focuses on the interaction between computers and human language.\")\n",
        "c = 1\n",
        "for sentence in doc.sents:\n",
        "    print(f\"sentence {c} is:\\n{sentence}\\nThe words in this sentence are: \")\n",
        "    for word in sentence:\n",
        "      if not word.is_punct:\n",
        "        print(word)\n",
        "    c += 1\n",
        "    print(\"\\n\")"
      ],
      "metadata": {
        "colab": {
          "base_uri": "https://localhost:8080/"
        },
        "id": "nXXHdFP5RYri",
        "outputId": "2f9746fa-4706-462b-d5b4-7a31236742d0"
      },
      "execution_count": 88,
      "outputs": [
        {
          "output_type": "stream",
          "name": "stdout",
          "text": [
            "sentence 1 is:\n",
            "Text mining is the process of extracting meaningful patterns and insights from text data.\n",
            "The words in this sentence are: \n",
            "Text\n",
            "mining\n",
            "is\n",
            "the\n",
            "process\n",
            "of\n",
            "extracting\n",
            "meaningful\n",
            "patterns\n",
            "and\n",
            "insights\n",
            "from\n",
            "text\n",
            "data\n",
            "\n",
            "\n",
            "sentence 2 is:\n",
            "NLP is a branch of artificial intelligence that focuses on the interaction between computers and human language.\n",
            "The words in this sentence are: \n",
            "NLP\n",
            "is\n",
            "a\n",
            "branch\n",
            "of\n",
            "artificial\n",
            "intelligence\n",
            "that\n",
            "focuses\n",
            "on\n",
            "the\n",
            "interaction\n",
            "between\n",
            "computers\n",
            "and\n",
            "human\n",
            "language\n",
            "\n",
            "\n"
          ]
        }
      ]
    },
    {
      "cell_type": "markdown",
      "source": [
        "## spaCy.load()"
      ],
      "metadata": {
        "id": "JNMAcYKvRnOA"
      }
    },
    {
      "cell_type": "code",
      "source": [
        "# Creating a blank English spaCy pipeline\n",
        "nlp = spacy.load(\"en_core_web_sm\")\n",
        "nlp.pipe_names"
      ],
      "metadata": {
        "colab": {
          "base_uri": "https://localhost:8080/"
        },
        "id": "IDo8k9M8RYTT",
        "outputId": "4ec7d16e-ad15-41d0-c3b4-7badb68b7562"
      },
      "execution_count": 61,
      "outputs": [
        {
          "output_type": "execute_result",
          "data": {
            "text/plain": [
              "['tok2vec', 'tagger', 'parser', 'attribute_ruler', 'lemmatizer', 'ner']"
            ]
          },
          "metadata": {},
          "execution_count": 61
        }
      ]
    },
    {
      "cell_type": "code",
      "source": [
        "# Processing a text string to extract patterns and insights\n",
        "doc = nlp(\"Text mining is the process of extracting meaningful patterns and insights from text data. NLP is a branch of artificial intelligence that focuses on the interaction between computers and human language.\")\n",
        "doc"
      ],
      "metadata": {
        "id": "N1NlARk9VX2S"
      },
      "execution_count": null,
      "outputs": []
    },
    {
      "cell_type": "code",
      "source": [
        "for sentence in doc.sents:\n",
        "    print(sentence)"
      ],
      "metadata": {
        "colab": {
          "base_uri": "https://localhost:8080/"
        },
        "id": "9-kiy9avRg8K",
        "outputId": "dd6fa8ef-5fec-4db6-9dd0-5cd11681a639"
      },
      "execution_count": 38,
      "outputs": [
        {
          "output_type": "stream",
          "name": "stdout",
          "text": [
            "Text mining is the process of extracting meaningful patterns and insights from text data.\n",
            "NLP is a branch of artificial intelligence that focuses on the interaction between computers and human language.\n"
          ]
        }
      ]
    },
    {
      "cell_type": "code",
      "source": [
        "for sentence in doc.sents:\n",
        "    for word in sentence:\n",
        "        print(word)"
      ],
      "metadata": {
        "id": "br_qtu03Rlsl"
      },
      "execution_count": null,
      "outputs": []
    }
  ]
}